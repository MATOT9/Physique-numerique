{
 "cells": [
  {
   "cell_type": "markdown",
   "metadata": {},
   "source": [
    "<h1><center>Physique numérique (PHY-3500) - TP1</center></h1>\n",
    "<hr>\n",
    "<br><br>\n",
    "\n",
    "**Membres de l'équipe**\n",
    "| Nom | NI |\n",
    "| --- | :---: |\n",
    "| Maxime Tousignant-Tremblay | 536 772 369 |\n",
    "| Philippe Morin | 536 776 382 |\n",
    "| | 123 456 789 |\n"
   ]
  },
  {
   "cell_type": "code",
   "execution_count": 21,
   "metadata": {},
   "outputs": [],
   "source": [
    "# import scipy\n",
    "import numpy as np\n",
    "from matplotlib import pyplot as plt\n",
    "from scipy.stats import norm, gamma\n",
    "from scipy.integrate import simpson, trapezoid, quad, romb\n",
    "\n",
    "\n",
    "%matplotlib inline\n",
    "%config InlineBackend.figureFormat = \"svg\",\n",
    "\n",
    "plt.style.use(\"LabReport.mplstyle\")"
   ]
  },
  {
   "cell_type": "markdown",
   "metadata": {},
   "source": [
    "## Numéro 1\n",
    "\n",
    "*Trouvez analytiquement $\\pi(\\lambda|X = \\text{\\textbf{x}})$ et déduisez la valeur de $f(\\text{\\textbf{x}})$. Indice : trouvez une fonction $g(\\lambda)$ proportionnelle à la loi a posteriori, ce qui vous permettra de retrouver la même forme que la loi a priori $\\pi(\\lambda)$. Cette loi a priori $\\pi(\\lambda)$ est conjuguée à la vraisemblance $f(\\text{\\textbf{x}}|\\Lambda=\\lambda)$.*\n",
    "$$posteriori \\propto vraisemblance \\ (priori)$$"
   ]
  },
  {
   "cell_type": "markdown",
   "metadata": {},
   "source": [
    "## Numéro 3\n",
    "\n",
    "*Écrivez une fonction permettant de lire les données des trois fichiers textes qui vous sont fournis.\n",
    "Chaque ligne d’un fichier est le temps en millisecondes auquel une impulsion a été mesurée.*"
   ]
  },
  {
   "cell_type": "code",
   "execution_count": 2,
   "metadata": {},
   "outputs": [],
   "source": [
    "def loadtxt(filename : str) -> np.ndarray[np.float64]:\n",
    "    \"\"\"Extract the impulse time dataset from a given text file.\n",
    "\n",
    "    Parameter\n",
    "    ---------\n",
    "        filename :\n",
    "            Name of the file to read, without the file format.\n",
    "\n",
    "    Returns:\n",
    "    --------\n",
    "        time :\n",
    "            Numpy array containing the time, in milliseconds, of a mesured impulse.\n",
    "    \"\"\"\n",
    "    time = np.loadtxt(f\"{filename}.txt\")\n",
    "    return time"
   ]
  },
  {
   "cell_type": "markdown",
   "metadata": {},
   "source": [
    "**Test run**"
   ]
  },
  {
   "cell_type": "code",
   "execution_count": 3,
   "metadata": {},
   "outputs": [
    {
     "data": {
      "text/plain": [
       "array([ 0.0343,  0.2068,  0.2101,  0.2399,  0.2865,  0.4969,  0.5162,\n",
       "        0.7287,  0.773 ,  0.8061,  1.6516,  1.7588,  1.7667,  1.7948,\n",
       "        1.8305,  1.8654,  2.0044,  2.0264,  2.0335,  2.0365,  2.055 ,\n",
       "        2.0674,  2.1062,  2.2772,  2.343 ,  2.4383,  2.4483,  2.5389,\n",
       "        2.9191,  2.9887,  3.1647,  3.2866,  3.3048,  3.3305,  3.5566,\n",
       "        3.6448,  3.6635,  3.8622,  3.9862,  4.09  ,  4.4905,  4.5651,\n",
       "        4.6472,  4.6921,  4.8931,  5.137 ,  5.2294,  5.3132,  5.352 ,\n",
       "        5.3689,  5.5634,  5.6222,  5.7351,  5.7745,  6.0295,  6.2382,\n",
       "        6.2843,  6.4273,  6.4338,  6.6697,  7.6614,  7.8059,  7.9089,\n",
       "        8.0225,  8.0464,  8.0767,  8.1312,  8.3533,  8.5574,  8.5993,\n",
       "        8.6471,  8.7791,  8.8642,  8.9343,  8.9368,  8.9398,  9.0725,\n",
       "        9.1667,  9.3144,  9.3861,  9.3878,  9.4135,  9.5507,  9.7884,\n",
       "       10.0642, 10.0772, 10.1014, 10.1525, 10.1798, 10.2325, 10.3901,\n",
       "       10.4004, 10.552 , 10.5999, 10.6507, 10.7797, 10.8208])"
      ]
     },
     "execution_count": 3,
     "metadata": {},
     "output_type": "execute_result"
    }
   ],
   "source": [
    "loadtxt(\"activite_temps_0\")"
   ]
  },
  {
   "cell_type": "markdown",
   "metadata": {},
   "source": [
    "## Numéro 4\n",
    "\n",
    "*En inférence bayésienne, il n’est généralement pas possible d’évaluer analytiquement $f(\\text{\\textbf{x}})$ et l’équation (5). En posant que $\\alpha=2$ et $\\beta=1/4$, évaluez numériquement $f(\\text{\\textbf{x}})$ et $\\hat{\\lambda}$ pour chaque série de données $x$ en utilisant la méthode de Simpson et la méthode de Romberg. Considérez que $\\lambda=200$ est suffisamment grand dans les bornes d’intégration.*\n",
    "\n",
    "D'après le théorème de Bayes, on a:\n",
    "$$\\pi(\\lambda|X=\\text{\\textbf{x}}) = \\frac{f(\\text{\\textbf{x}}|\\Lambda=\\lambda)\\pi(\\lambda)}{f(\\text{\\textbf{x}})} = \\frac{f(\\text{\\textbf{x}}|\\Lambda=\\lambda)\\pi(\\lambda)}{\\int f(\\text{\\textbf{x}}|\\Lambda=\\lambda)\\pi(\\lambda)d\\lambda}\\ .$$\n",
    "\n",
    "On suppose que la valeur *a priori* $\\pi(\\lambda)$ obéit à une loi Gamma de paramètres $\\alpha$ et $\\beta$ telle que:\n",
    "$$\\pi(\\lambda) = \\frac{\\lambda^{\\alpha-1}e^{-\\beta\\lambda}\\beta^{\\alpha}}{\\Gamma(\\alpha)} \\ .$$"
   ]
  },
  {
   "cell_type": "code",
   "execution_count": 49,
   "metadata": {},
   "outputs": [
    {
     "data": {
      "text/plain": [
       "(0.09004137840550765,\n",
       " 0.08991491565623,\n",
       " (0.07496881180508495, 1.1534968130406248e-12))"
      ]
     },
     "execution_count": 49,
     "metadata": {},
     "output_type": "execute_result"
    }
   ],
   "source": [
    "# Constantes du problème\n",
    "alpha = 2\n",
    "beta = 0.75\n",
    "lamb = 200\n",
    "\n",
    "x1 = loadtxt(\"activite_temps_0\")\n",
    "mu = x1.mean()\n",
    "std = x1.std()\n",
    "\n",
    "likelihood = norm.pdf(x1, mu, std)\n",
    "likelihood *= likelihood.sum()**-1\n",
    "\n",
    "# Calcul de π(λ)\n",
    "prior = gamma.pdf(x1, alpha, scale=1/beta)\n",
    "unnorm_posterior = likelihood * prior\n",
    "\n",
    "# We should have a value different than 1 at this point\n",
    "# unnorm_posterior.sum()\n",
    "f = lambda x: norm.pdf(x, mu, std) * gamma.pdf(x, alpha, scale=1/beta)\n",
    "\n",
    "# Compute integral\n",
    "simp = simpson(unnorm_posterior)\n",
    "trapz = trapezoid(unnorm_posterior)\n",
    "romberg = quad(f, 0, 200)\n",
    "\n",
    "simp, trapz, romberg"
   ]
  },
  {
   "cell_type": "markdown",
   "metadata": {},
   "source": [
    "# Numéro 5\n",
    "\n",
    "En comparant à votre solution analytique, tracez l’erreur sur $f(\\text{\\textbf{x}})$ et $\\hat{\\lambda}$ engendrée par vos deux méthodes d’intégration en fonction du nombre de tranches pour le jeux de données de votre choix."
   ]
  },
  {
   "cell_type": "code",
   "execution_count": null,
   "metadata": {},
   "outputs": [],
   "source": []
  },
  {
   "cell_type": "markdown",
   "metadata": {},
   "source": [
    "# Numéro 6\n",
    "\n",
    "Quels sont les défis reliés à l’intégration numérique de l’évidence $f(\\text{\\textbf{x}})$ en inférence bayésienne ?\n",
    "<br><br>\n",
    "\n",
    "blabla"
   ]
  },
  {
   "cell_type": "markdown",
   "metadata": {},
   "source": [
    "# Numéro 7\n",
    "\n",
    "Tracez un histogramme des fréquences relatives des écarts entre les impulsions. Tracez également la loi du modèle a priori $f(x_i|\\Lambda = \\lambda_0)$ et celle ajustée $f(x_i|\\Lambda = \\hat{\\lambda})$."
   ]
  },
  {
   "cell_type": "code",
   "execution_count": null,
   "metadata": {},
   "outputs": [],
   "source": []
  },
  {
   "cell_type": "markdown",
   "metadata": {},
   "source": [
    "# Numéro 8\n",
    "\n",
    "Avec vos connaissances sur le processus de Poisson et l’inférence bayésienne, que pouvez-vous conclure du comportement de chaque neurone grâce à vos résultats ? Les processus sont-ils poissonien dans tous les cas ?\n",
    "<br><br>\n",
    "\n",
    "blabla"
   ]
  },
  {
   "cell_type": "markdown",
   "metadata": {},
   "source": [
    "# Références\n",
    "\n",
    "blabla"
   ]
  }
 ],
 "metadata": {
  "kernelspec": {
   "display_name": "jupyter",
   "language": "python",
   "name": "python3"
  },
  "language_info": {
   "codemirror_mode": {
    "name": "ipython",
    "version": 3
   },
   "file_extension": ".py",
   "mimetype": "text/x-python",
   "name": "python",
   "nbconvert_exporter": "python",
   "pygments_lexer": "ipython3",
   "version": "3.11.7"
  }
 },
 "nbformat": 4,
 "nbformat_minor": 2
}
