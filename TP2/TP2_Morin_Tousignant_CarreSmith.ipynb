{
 "cells": [
  {
   "cell_type": "markdown",
   "metadata": {},
   "source": [
    "<h1><center>Physique numérique (PHY-3500) - TP2</center></h1>\n",
    "<hr>\n",
    "<br><br>\n",
    "\n",
    "**Membres de l'équipe**\n",
    "| Nom | NI |\n",
    "| --- | :---: |\n",
    "| Maxime Tousignant-Tremblay | 536 772 369 |\n",
    "| Philippe Morin | 536 776 382 |\n",
    "| Emilie Carré Smith| 111 235 839 |\n"
   ]
  },
  {
   "cell_type": "code",
   "execution_count": 1,
   "metadata": {},
   "outputs": [],
   "source": [
    "import numpy as np\n",
    "from matplotlib import pyplot as plt\n",
    "\n",
    "\n",
    "%matplotlib inline\n",
    "%config InlineBackend.figure_formats = \"svg\",\n",
    "plt.style.use(\"LabReport.mplstyle\")"
   ]
  },
  {
   "cell_type": "markdown",
   "metadata": {},
   "source": [
    "# Numéro 1\n",
    "\n",
    "A) *À l’aide des équations (2.1.2) et (2.1.3), démontrez que les matrices de réflexion $\\boldsymbol{Q_i}$ sont orthogonales.*\n",
    "\n",
    "B) *Démontrez l’équation (2.1.5) et que la matrice $\\boldsymbol{Q}$ est orthogonale.*"
   ]
  },
  {
   "cell_type": "markdown",
   "metadata": {},
   "source": [
    "C) *Implémentez la fonction householder_qr qui prend en argument une matrice $\\boldsymbol{A}$ et qui retourne les matrices $\\boldsymbol{Q}$ et $\\boldsymbol{R}$ obtenues par la méthode de Householder.*"
   ]
  },
  {
   "cell_type": "code",
   "execution_count": 2,
   "metadata": {},
   "outputs": [],
   "source": [
    "def householder_qr(A: np.ndarray[np.float64]) -> tuple[np.ndarray[np.float64]]:\n",
    "    \"\"\"Calcule la décomposition QR de la matrice A par la méthode de Householder.\n",
    "\n",
    "    Paramètres\n",
    "    ----------\n",
    "    A : numpy.ndarray\n",
    "        Matrice d'entrée.\n",
    "\n",
    "    Retours\n",
    "    -------\n",
    "    Q : numpy.ndarray\n",
    "        Matrice orthogonale.\n",
    "    R : numpy.ndarray\n",
    "        Matrice triangulaire supérieure.\n",
    "\n",
    "    \"\"\"\n",
    "    m, n = A.shape\n",
    "    Q = np.eye(m)\n",
    "\n",
    "    for j in range(min(m - 1, n)):\n",
    "        x = A[j:, j]\n",
    "        x_norm = np.linalg.norm(x)\n",
    "        e = np.zeros_like(x)\n",
    "        e[0] = x_norm\n",
    "        v = np.sign(x[0]) * x_norm * e + x\n",
    "        v /= np.linalg.norm(v)\n",
    "\n",
    "        # Appliquer la transformation de Householder sur A\n",
    "        A[j:, :] -= 2 * np.outer(v, (v @ A[j:, :]))\n",
    "\n",
    "        # Appliquer la transformation de Householder sur Q\n",
    "        Q[j:, :] -= 2 * np.outer(v, (v @ Q[j:, :]))\n",
    "\n",
    "    # Tronquer pour obtenir la matrice triangulaire supérieure\n",
    "    R = np.triu(A[:n, :])\n",
    "    return Q.T, R"
   ]
  },
  {
   "cell_type": "markdown",
   "metadata": {},
   "source": [
    "D) *À l’aide d’une matrice de dimension 4 × 3 de votre choix, testez votre fonction householder_qr et comparez les résultats obtenus avec ceux obtenus à l’aide de la fonction* `numpy.linalg.qr`. *Les matrices sont-elles exactement les mêmes ? Si non, est-ce un problème ?*"
   ]
  },
  {
   "cell_type": "code",
   "execution_count": 3,
   "metadata": {},
   "outputs": [
    {
     "name": "stdout",
     "output_type": "stream",
     "text": [
      "Décomposition QR de householder_qr :\n",
      "Q :\n",
      "[[-0.5246208   0.72895736  0.3384927   0.28074343]\n",
      " [-0.65075956 -0.01335285 -0.63589641 -0.41469198]\n",
      " [-0.44890893 -0.59685948  0.03900251  0.66386621]\n",
      " [-0.31585721 -0.33496513  0.69248628 -0.55542357]]\n",
      "R :\n",
      "[[-1.14258974 -0.70792759 -1.42756818]\n",
      " [ 0.          0.48502323 -0.13446888]\n",
      " [ 0.          0.          0.43101482]]\n",
      "\n",
      "Décomposition QR de Numpy :\n",
      "Q :\n",
      "[[-0.99647912  0.082099    0.00506979]\n",
      " [-0.0717892  -0.93940906  0.1609431 ]\n",
      " [-0.03333545 -0.27193061 -0.87569942]\n",
      " [-0.02764818 -0.19189612  0.45521659]]\n",
      "R :\n",
      "[[ 1.14662688  0.66371207  1.42527469]\n",
      " [ 0.         -0.56702731 -0.05639656]\n",
      " [ 0.          0.         -0.5289384 ]]\n"
     ]
    }
   ],
   "source": [
    "# Tester la fonction avec une matrice aléatoire 4 x 3\n",
    "A = np.random.rand(4, 3)\n",
    "Q, R = householder_qr(A)\n",
    "print(\"Décomposition QR de householder_qr :\")\n",
    "print(f\"Q :\\n{Q}\")\n",
    "print(f\"R :\\n{R}\")\n",
    "\n",
    "# Comparaison avec la décomposition QR de numpy\n",
    "Q_np, R_np = np.linalg.qr(A)\n",
    "print(\"\\nDécomposition QR de Numpy :\")\n",
    "print(f\"Q :\\n{Q_np}\")\n",
    "print(f\"R :\\n{R_np}\")"
   ]
  },
  {
   "cell_type": "markdown",
   "metadata": {},
   "source": [
    "Non, les matrices $\\boldsymbol{Q}$ et $\\boldsymbol{R}$ obtenues à partir de la décomposition QR de householder_qr et de la décomposition QR de Numpy ne sont pas exactement les mêmes. Cependant, cela n'est pas nécessairement un problème. Il est courant que les implémentations de décomposition QR puissent donner des résultats légèrement différents en raison de variations dans les méthodes numériques utilisées ou dans la manière dont les calculs sont effectués. Cela peut conduire à des différences dans les valeurs numériques, même si les matrices résultantes sont équivalentes en termes mathématiques.\n",
    "\n",
    "Dans la plupart des cas, ces petites différences ne sont pas problématiques et peuvent être dues à des erreurs d'arrondi ou à d'autres considérations numériques. Tant que les résultats sont proches et que les propriétés fondamentales de la décomposition QR sont respectées (comme l'orthogonalité de $\\boldsymbol{Q}$ et la triangularité de $\\boldsymbol{R}$), les résultats sont considérés comme valides.\n",
    "\n",
    "En résumé, bien que les matrices ne soient pas exactement les mêmes, cela ne pose généralement pas de problème tant que les résultats sont numériquement stables et que les propriétés essentielles de la décomposition QR sont respectées."
   ]
  },
  {
   "cell_type": "markdown",
   "metadata": {},
   "source": [
    "E) *À l’aide de la matrice utilisée en D, illustrez comment la multiplication successive des matrices $\\boldsymbol{Q_i}$ triangularise progressivement la matrice $\\boldsymbol{A}$. Dans l’élan, assurez-vous que les matrices $\\boldsymbol{Q}$ et $\\boldsymbol{R}$ obtenues sont bien orthogonale et triangulaire supérieure, respectivement.*"
   ]
  },
  {
   "cell_type": "code",
   "execution_count": 4,
   "metadata": {},
   "outputs": [
    {
     "name": "stdout",
     "output_type": "stream",
     "text": [
      "Matrice A :\n",
      "[[-1.14258974 -0.70792759 -1.42756818]\n",
      " [-0.08231543  0.48502323 -0.13446888]\n",
      " [-0.03822332  0.13206694  0.43101482]\n",
      " [-0.03170215  0.09045991 -0.26936551]]\n",
      "\n",
      "Matrice Q :\n",
      "[[-0.5246208   0.72895736  0.3384927   0.28074343]\n",
      " [-0.65075956 -0.01335285 -0.63589641 -0.41469198]\n",
      " [-0.44890893 -0.59685948  0.03900251  0.66386621]\n",
      " [-0.31585721 -0.33496513  0.69248628 -0.55542357]]\n",
      "\n",
      "Matrice R :\n",
      "[[-1.14258974 -0.70792759 -1.42756818]\n",
      " [ 0.          0.48502323 -0.13446888]\n",
      " [ 0.          0.          0.43101482]]\n",
      "\n",
      "Vérification de l'orthogonalité de Q :\n",
      "Q X Q^T :\n",
      "[[ 1.00000000e+00 -8.15513246e-17  1.40501187e-16 -1.21485541e-17]\n",
      " [-8.15513246e-17  1.00000000e+00  2.60681487e-16  1.04366052e-17]\n",
      " [ 1.40501187e-16  2.60681487e-16  1.00000000e+00 -2.75038159e-16]\n",
      " [-1.21485541e-17  1.04366052e-17 -2.75038159e-16  1.00000000e+00]]\n",
      "\n",
      "Vérification de la triangularité de R :\n",
      "R :\n",
      "[[-1.14258974 -0.70792759 -1.42756818]\n",
      " [ 0.          0.48502323 -0.13446888]\n",
      " [ 0.          0.          0.43101482]]\n"
     ]
    }
   ],
   "source": [
    "# Affichage de la matrice A\n",
    "print(f\"Matrice A :\\n{A}\")\n",
    "\n",
    "# Affichage des matrices Q et R\n",
    "print(f\"\\nMatrice Q :\\n{Q}\")\n",
    "print(f\"\\nMatrice R :\\n{R}\")\n",
    "\n",
    "# Vérification de l'orthogonalité de Q\n",
    "print(\"\\nVérification de l'orthogonalité de Q :\")\n",
    "print(f\"Q X Q^T :\\n{Q @ Q.T}\")\n",
    "\n",
    "# Vérification de la triangularité de R\n",
    "print(\"\\nVérification de la triangularité de R :\")\n",
    "print(f\"R :\\n{R}\")"
   ]
  },
  {
   "cell_type": "markdown",
   "metadata": {},
   "source": [
    "# Numéro 2\n",
    "\n",
    "A) *Modifiez votre code de décomposition QR pour qu’il retourne la décomposition QR réduite de la matrice d’entrée lorsque l’argument additionnel reduite=True lui est passé.*"
   ]
  },
  {
   "cell_type": "code",
   "execution_count": 5,
   "metadata": {},
   "outputs": [],
   "source": [
    "def householder_qr(\n",
    "    A: np.ndarray[np.float64],\n",
    "    reduite: bool = False,\n",
    ") -> tuple[np.ndarray[np.float64]]:\n",
    "    \"\"\"Calcule la décomposition QR de la matrice A par la méthode de Householder.\n",
    "\n",
    "    Paramètres\n",
    "    ----------\n",
    "    A\n",
    "        Matrice d'entrée.\n",
    "    reduite\n",
    "        Indique si la décomposition QR réduite doit être retournée (par défaut False).\n",
    "\n",
    "    Retours\n",
    "    -------\n",
    "    Q\n",
    "        Matrice orthogonale.\n",
    "    R\n",
    "        Matrice triangulaire supérieure (ou inférieure si réduite est True).\n",
    "\n",
    "    \"\"\"\n",
    "    m, n = A.shape\n",
    "    Q = np.eye(m)\n",
    "\n",
    "    for j in range(min(m - 1, n)):\n",
    "        x = A[j:, j]\n",
    "        x_norm = np.linalg.norm(x)\n",
    "        e = np.zeros_like(x)\n",
    "        e[0] = x_norm\n",
    "        v = np.sign(x[0]) * x_norm * e + x\n",
    "        v /= np.linalg.norm(v)\n",
    "\n",
    "        # Appliquer la transformation de Householder sur A\n",
    "        A[j:, :] -= 2 * np.outer(v, (v @ A[j:, :]))\n",
    "\n",
    "        # Appliquer la transformation de Householder sur Q\n",
    "        Q[j:, :] -= 2 * np.outer(v, (v @ Q[j:, :]))\n",
    "\n",
    "    if reduite:\n",
    "        # Utiliser np.tril pour obtenir la matrice triangulaire inférieure (réduite)\n",
    "        R = np.tril(A[:, :n])\n",
    "    else:\n",
    "        # Utiliser np.triu pour obtenir la matrice triangulaire supérieure\n",
    "        R = np.triu(A[:, :n])\n",
    "\n",
    "    return Q.T, R"
   ]
  },
  {
   "cell_type": "markdown",
   "metadata": {},
   "source": [
    "B) *Utilisez votre code pour résoudre approximativement l’équation (2.2.4). Vous utiliserez les données fournies dans le fichier bataille_navale_equipeXX.csv où vous remplacerez XX par votre numéro d’équipe dans la boîte de dépôt sur MonPortail.*"
   ]
  },
  {
   "cell_type": "code",
   "execution_count": null,
   "metadata": {},
   "outputs": [],
   "source": []
  },
  {
   "cell_type": "markdown",
   "metadata": {},
   "source": [
    "C) *Tracez les données (cercles noirs) et la solution estimée de la trajectoire (ligne pleine de la couleur de votre choix) donnée par l’équation (2.2.3).*"
   ]
  },
  {
   "cell_type": "code",
   "execution_count": null,
   "metadata": {},
   "outputs": [],
   "source": []
  },
  {
   "cell_type": "markdown",
   "metadata": {},
   "source": [
    "D) *Obtenez la position d’impact du projectile (à $y = 0$) en résolvant l’équation quadratique (2.2.3) pour $x$ à l’aide d’une implémentation personnelle de la méthode de la bissection. Comparez votre solution avec celle obtenue en résolvant cette même équation analytiquement. Considérant que votre embarcation se situe à la position ($x$, $y$) = (0, 0), quelle est la distance horizontale vous séparant du point d’impact ?*"
   ]
  },
  {
   "cell_type": "code",
   "execution_count": null,
   "metadata": {},
   "outputs": [],
   "source": []
  },
  {
   "cell_type": "markdown",
   "metadata": {},
   "source": [
    "# Numéro 3\n",
    "\n",
    "A) *Trouvez analytiquement toutes les solutions de l’équation cubique (2.3.3).*"
   ]
  },
  {
   "cell_type": "markdown",
   "metadata": {},
   "source": [
    "B) *Démontrez laquelle des solutions obtenues précédemment (ou une combinaison de celles-ci) correspond à $u$, soit la solution recherchée de l’équation (2.3.3).*"
   ]
  },
  {
   "cell_type": "code",
   "execution_count": null,
   "metadata": {},
   "outputs": [],
   "source": []
  },
  {
   "cell_type": "markdown",
   "metadata": {},
   "source": [
    "C) *Tracez $R_\\infty$ en fonction de $T$ et identifiez tout changement qualitatif de $R_\\infty$. Comment interprétez-vous ce changement (ou cette absence de changement) ?*"
   ]
  },
  {
   "cell_type": "code",
   "execution_count": null,
   "metadata": {},
   "outputs": [],
   "source": []
  },
  {
   "cell_type": "markdown",
   "metadata": {},
   "source": [
    "D) *Résolvez numériquement l’équation (2.3.3) à l’aide d’implémentations personnelles de la méthode par relaxation et de la méthode de Newton-Raphson pour 20 valeurs de $T$ uniformément distribuées dans l’intervalle [0, 1]. Illustrez vos résultats à l’aide d’un graphique comparant les solutions analytiques (indiquées avec des lignes de couleurs distinctes) aux solutions numériques obtenues avec différentes valeurs initiales de l’algorithme (symboles ; choisissez bien vos symboles pour que vos solutions soient bien visibles). Arrivez-vous à obtenir les trois solutions identifiées en $\\textbf{A}$ ? Pourquoi ? Considérez tracer l’équation (2.3.3) de même que la dérivée de $f(u)$ en fonction de $u$ et ce, pour quelques valeurs de $T$, pour appuyer vos conclusions. Vous pouvez aussi tracer les itérations successives de chacune des méthodes afin d’illustrer la manière dont elles convergent vers l’une ou l’autre des solutions (ex. : tracer un diagramme en toile d’araignée).*"
   ]
  },
  {
   "cell_type": "code",
   "execution_count": null,
   "metadata": {},
   "outputs": [],
   "source": []
  }
 ],
 "metadata": {
  "kernelspec": {
   "display_name": "physnum",
   "language": "python",
   "name": "python3"
  },
  "language_info": {
   "codemirror_mode": {
    "name": "ipython",
    "version": 3
   },
   "file_extension": ".py",
   "mimetype": "text/x-python",
   "name": "python",
   "nbconvert_exporter": "python",
   "pygments_lexer": "ipython3",
   "version": "3.12.2"
  }
 },
 "nbformat": 4,
 "nbformat_minor": 2
}
