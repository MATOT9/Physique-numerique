{
 "cells": [
  {
   "cell_type": "markdown",
   "metadata": {},
   "source": [
    "<h1><center>Physique numérique (PHY-3500) - TP2</center></h1>\n",
    "<hr>\n",
    "<br><br>\n",
    "\n",
    "**Membres de l'équipe**\n",
    "| Nom | NI |\n",
    "| --- | :---: |\n",
    "| Maxime Tousignant-Tremblay | 536 772 369 |\n",
    "| Philippe Morin | 536 776 382 |\n",
    "| Emilie Carré Smith| 111 235 839 |\n"
   ]
  },
  {
   "cell_type": "code",
   "execution_count": 19,
   "metadata": {},
   "outputs": [],
   "source": [
    "import numpy as np\n",
    "from matplotlib import pyplot as plt\n",
    "\n",
    "\n",
    "%matplotlib inline\n",
    "%config InlineBackend.figure_formats = \"svg\",\n",
    "plt.style.use(\"LabReport.mplstyle\")"
   ]
  },
  {
   "cell_type": "markdown",
   "metadata": {},
   "source": [
    "# Numéro 1\n",
    "\n",
    "A) *À l’aide des équations (2.1.2) et (2.1.3), démontrez que les matrices de réflexion $\\boldsymbol{Q_i}$ sont orthogonales.*\n",
    "\n",
    "B) *Démontrez l’équation (2.1.5) et que la matrice $\\boldsymbol{Q}$ est orthogonale.*"
   ]
  },
  {
   "cell_type": "markdown",
   "metadata": {},
   "source": [
    "C) *Implémentez la fonction householder_qr qui prend en argument une matrice $\\boldsymbol{A}$ et qui retourne les matrices $\\boldsymbol{Q}$ et $\\boldsymbol{R}$ obtenues par la méthode de Householder.*"
   ]
  },
  {
   "cell_type": "code",
   "execution_count": 48,
   "metadata": {},
   "outputs": [],
   "source": [
    "def householder_qr(A: np.ndarray[np.float64]) -> tuple[np.ndarray[np.float64]]:\n",
    "    \"\"\"Calcule la décomposition QR de la matrice A par la méthode de Householder.\n",
    "\n",
    "    Paramètres\n",
    "    ----------\n",
    "    A : numpy.ndarray\n",
    "        Matrice d'entrée.\n",
    "\n",
    "    Retours\n",
    "    -------\n",
    "    Q : numpy.ndarray\n",
    "        Matrice orthogonale.\n",
    "    R : numpy.ndarray\n",
    "        Matrice triangulaire supérieure.\n",
    "\n",
    "    \"\"\"\n",
    "    m, n = A.shape\n",
    "    Q = np.eye(m)\n",
    "\n",
    "    for j in range(min(m - 1, n)):\n",
    "        x = A[j:, j]\n",
    "        x_norm = np.linalg.norm(x)\n",
    "        e = np.zeros_like(x)\n",
    "        e[0] = x_norm\n",
    "        v = np.sign(x[0]) * x_norm * e + x\n",
    "        v /= np.linalg.norm(v)\n",
    "\n",
    "        # Appliquer la transformation de Householder sur A\n",
    "        A[j:, :] -= 2 * np.outer(v, (v @ A[j:, :]))\n",
    "\n",
    "        # Appliquer la transformation de Householder sur Q\n",
    "        Q[j:, :] -= 2 * np.outer(v, (v @ Q[j:, :]))\n",
    "\n",
    "    # Tronquer pour obtenir la matrice triangulaire supérieure\n",
    "    R = np.triu(A[:n, :])\n",
    "    return Q.T, R"
   ]
  },
  {
   "cell_type": "markdown",
   "metadata": {},
   "source": [
    "D) *À l’aide d’une matrice de dimension 4 × 3 de votre choix, testez votre fonction householder_qr et comparez les résultats obtenus avec ceux obtenus à l’aide de la fonction* `numpy.linalg.qr`. *Les matrices sont-elles exactement les mêmes ? Si non, est-ce un problème ?*"
   ]
  },
  {
   "cell_type": "code",
   "execution_count": 59,
   "metadata": {},
   "outputs": [
    {
     "name": "stdout",
     "output_type": "stream",
     "text": [
      "Décomposition QR de householder_qr :\n",
      "Q :\n",
      "[[ 0.17413083  0.85154078 -0.41673274 -0.26625285]\n",
      " [-0.31533949  0.10431547  0.56428722 -0.75581693]\n",
      " [-0.92367354  0.0526317  -0.35833807  0.12510365]\n",
      " [-0.13063938  0.51110321  0.61604187  0.58497801]]\n",
      "R :\n",
      "[[-0.64946688 -0.98700203 -0.44661408]\n",
      " [ 0.          1.19546037  1.15625779]\n",
      " [ 0.          0.          0.01119892]]\n",
      "\n",
      "Décomposition QR de Numpy :\n",
      "Q :\n",
      "[[-0.94894962 -0.21490515  0.17656694]\n",
      " [ 0.27276672 -0.90739077  0.31492466]\n",
      " [-0.13348841 -0.3578264  -0.85278311]\n",
      " [-0.08528648  0.04917349  0.37736924]]\n",
      "R :\n",
      "[[ 0.68440607  1.25315134  0.73830494]\n",
      " [ 0.         -0.940766   -0.95754944]\n",
      " [ 0.          0.          0.27308514]]\n"
     ]
    }
   ],
   "source": [
    "# Tester la fonction avec une matrice aléatoire 4 x 3\n",
    "A = np.random.rand(4, 3)\n",
    "Q, R = householder_qr(A)\n",
    "print(\"Décomposition QR de householder_qr :\")\n",
    "print(f\"Q :\\n{Q}\")\n",
    "print(f\"R :\\n{R}\")\n",
    "\n",
    "# Comparaison avec la décomposition QR de numpy\n",
    "Q_np, R_np = np.linalg.qr(A)\n",
    "print(\"\\nDécomposition QR de Numpy :\")\n",
    "print(f\"Q :\\n{Q_np}\")\n",
    "print(f\"R :\\n{R_np}\")"
   ]
  },
  {
   "cell_type": "markdown",
   "metadata": {},
   "source": [
    "Non, les matrices $\\boldsymbol{Q}$ et $\\boldsymbol{R}$ obtenues à partir de la décomposition QR de householder_qr et de la décomposition QR de Numpy ne sont pas exactement les mêmes. Cependant, cela n'est pas nécessairement un problème. Il est courant que les implémentations de décomposition QR puissent donner des résultats légèrement différents en raison de variations dans les méthodes numériques utilisées ou dans la manière dont les calculs sont effectués. Cela peut conduire à des différences dans les valeurs numériques, même si les matrices résultantes sont équivalentes en termes mathématiques.\n",
    "\n",
    "Dans la plupart des cas, ces petites différences ne sont pas problématiques et peuvent être dues à des erreurs d'arrondi ou à d'autres considérations numériques. Tant que les résultats sont proches et que les propriétés fondamentales de la décomposition QR sont respectées (comme l'orthogonalité de $\\boldsymbol{Q}$ et la triangularité de $\\boldsymbol{R}$), les résultats sont considérés comme valides.\n",
    "\n",
    "En résumé, bien que les matrices ne soient pas exactement les mêmes, cela ne pose généralement pas de problème tant que les résultats sont numériquement stables et que les propriétés essentielles de la décomposition QR sont respectées."
   ]
  },
  {
   "cell_type": "markdown",
   "metadata": {},
   "source": [
    "E) *À l’aide de la matrice utilisée en D, illustrez comment la multiplication successive des matrices $\\boldsymbol{Q_i}$ triangularise progressivement la matrice $\\boldsymbol{A}$. Dans l’élan, assurez-vous que les matrices $\\boldsymbol{Q}$ et $\\boldsymbol{R}$ obtenues sont bien orthogonale et triangulaire supérieure, respectivement.*"
   ]
  },
  {
   "cell_type": "code",
   "execution_count": 61,
   "metadata": {},
   "outputs": [
    {
     "name": "stdout",
     "output_type": "stream",
     "text": [
      "Matrice A :\n",
      "[[-0.64946688 -0.98700203 -0.44661408]\n",
      " [ 0.1866832   1.19546037  1.15625779]\n",
      " [-0.09136028  0.16934973  0.01119892]\n",
      " [-0.05837058 -0.15313761 -0.00699955]]\n",
      "\n",
      "Matrice Q :\n",
      "[[ 0.17413083  0.85154078 -0.41673274 -0.26625285]\n",
      " [-0.31533949  0.10431547  0.56428722 -0.75581693]\n",
      " [-0.92367354  0.0526317  -0.35833807  0.12510365]\n",
      " [-0.13063938  0.51110321  0.61604187  0.58497801]]\n",
      "\n",
      "Matrice R :\n",
      "[[-0.64946688 -0.98700203 -0.44661408]\n",
      " [ 0.          1.19546037  1.15625779]\n",
      " [ 0.          0.          0.01119892]]\n",
      "\n",
      "Vérification de l'orthogonalité de Q :\n",
      "Q X Q^T :\n",
      "[[ 1.00000000e+00  3.39425167e-16 -4.10278968e-16 -1.26106096e-16]\n",
      " [ 3.39425167e-16  1.00000000e+00  4.46978295e-16 -1.54866613e-16]\n",
      " [-4.10278968e-16  4.46978295e-16  1.00000000e+00  1.29030875e-17]\n",
      " [-1.26106096e-16 -1.54866613e-16  1.29030875e-17  1.00000000e+00]]\n",
      "\n",
      "Vérification de la triangularité de R :\n",
      "R :\n",
      "[[-0.64946688 -0.98700203 -0.44661408]\n",
      " [ 0.          1.19546037  1.15625779]\n",
      " [ 0.          0.          0.01119892]]\n"
     ]
    }
   ],
   "source": [
    "# Affichage de la matrice A\n",
    "print(f\"Matrice A :\\n{A}\")\n",
    "\n",
    "# Affichage des matrices Q et R\n",
    "print(f\"\\nMatrice Q :\\n{Q}\")\n",
    "print(f\"\\nMatrice R :\\n{R}\")\n",
    "\n",
    "# Vérification de l'orthogonalité de Q\n",
    "print(\"\\nVérification de l'orthogonalité de Q :\")\n",
    "print(f\"Q X Q^T :\\n{Q @ Q.T}\")\n",
    "\n",
    "# Vérification de la triangularité de R\n",
    "print(\"\\nVérification de la triangularité de R :\")\n",
    "print(f\"R :\\n{R}\")"
   ]
  },
  {
   "cell_type": "markdown",
   "metadata": {},
   "source": [
    "# Numéro 2\n",
    "\n",
    "A) *Modifiez votre code de décomposition QR pour qu’il retourne la décomposition QR réduite de la matrice d’entrée lorsque l’argument additionnel reduite=True lui est passé.*"
   ]
  },
  {
   "cell_type": "code",
   "execution_count": 62,
   "metadata": {},
   "outputs": [],
   "source": [
    "def householder_qr(\n",
    "    A: np.ndarray[np.float64],\n",
    "    reduite: bool = False,\n",
    ") -> tuple[np.ndarray[np.float64]]:\n",
    "    \"\"\"Calcule la décomposition QR de la matrice A par la méthode de Householder.\n",
    "\n",
    "    Paramètres\n",
    "    ----------\n",
    "    A\n",
    "        Matrice d'entrée.\n",
    "    reduite\n",
    "        Indique si la décomposition QR réduite doit être retournée (par défaut False).\n",
    "\n",
    "    Retours\n",
    "    -------\n",
    "    Q\n",
    "        Matrice orthogonale.\n",
    "    R\n",
    "        Matrice triangulaire supérieure (ou inférieure si réduite est True).\n",
    "\n",
    "    \"\"\"\n",
    "    m, n = A.shape\n",
    "    Q = np.eye(m)\n",
    "\n",
    "    for j in range(min(m - 1, n)):\n",
    "        x = A[j:, j]\n",
    "        x_norm = np.linalg.norm(x)\n",
    "        e = np.zeros_like(x)\n",
    "        e[0] = x_norm\n",
    "        v = np.sign(x[0]) * x_norm * e + x\n",
    "        v /= np.linalg.norm(v)\n",
    "\n",
    "        # Appliquer la transformation de Householder sur A\n",
    "        A[j:, :] -= 2 * np.outer(v, (v @ A[j:, :]))\n",
    "\n",
    "        # Appliquer la transformation de Householder sur Q\n",
    "        Q[j:, :] -= 2 * np.outer(v, (v @ Q[j:, :]))\n",
    "\n",
    "    if reduite:\n",
    "        # Utiliser np.tril pour obtenir la matrice triangulaire inférieure (réduite)\n",
    "        R = np.tril(A[:, :n])\n",
    "    else:\n",
    "        # Utiliser np.triu pour obtenir la matrice triangulaire supérieure\n",
    "        R = np.triu(A[:, :n])\n",
    "\n",
    "    return Q.T, R"
   ]
  },
  {
   "cell_type": "markdown",
   "metadata": {},
   "source": [
    "B) *Utilisez votre code pour résoudre approximativement l’équation (2.2.4). Vous utiliserez les données fournies dans le fichier bataille_navale_equipeXX.csv où vous remplacerez XX par votre numéro d’équipe dans la boîte de dépôt sur MonPortail.*"
   ]
  },
  {
   "cell_type": "code",
   "execution_count": null,
   "metadata": {},
   "outputs": [],
   "source": []
  },
  {
   "cell_type": "markdown",
   "metadata": {},
   "source": [
    "C) *Tracez les données (cercles noirs) et la solution estimée de la trajectoire (ligne pleine de la couleur de votre choix) donnée par l’équation (2.2.3).*"
   ]
  },
  {
   "cell_type": "code",
   "execution_count": null,
   "metadata": {},
   "outputs": [],
   "source": []
  },
  {
   "cell_type": "markdown",
   "metadata": {},
   "source": [
    "D) *Obtenez la position d’impact du projectile (à $y = 0$) en résolvant l’équation quadratique (2.2.3) pour $x$ à l’aide d’une implémentation personnelle de la méthode de la bissection. Comparez votre solution avec celle obtenue en résolvant cette même équation analytiquement. Considérant que votre embarcation se situe à la position ($x$, $y$) = (0, 0), quelle est la distance horizontale vous séparant du point d’impact ?*"
   ]
  },
  {
   "cell_type": "code",
   "execution_count": null,
   "metadata": {},
   "outputs": [],
   "source": []
  },
  {
   "cell_type": "markdown",
   "metadata": {},
   "source": [
    "# Numéro 3\n",
    "\n",
    "A) *Trouvez analytiquement toutes les solutions de l’équation cubique (2.3.3).*"
   ]
  },
  {
   "cell_type": "markdown",
   "metadata": {},
   "source": [
    "B) *Démontrez laquelle des solutions obtenues précédemment (ou une combinaison de celles-ci) correspond à $u$, soit la solution recherchée de l’équation (2.3.3).*"
   ]
  },
  {
   "cell_type": "code",
   "execution_count": null,
   "metadata": {},
   "outputs": [],
   "source": []
  },
  {
   "cell_type": "markdown",
   "metadata": {},
   "source": [
    "C) *Tracez $R_\\infty$ en fonction de $T$ et identifiez tout changement qualitatif de $R_\\infty$. Comment interprétez-vous ce changement (ou cette absence de changement) ?*"
   ]
  },
  {
   "cell_type": "code",
   "execution_count": null,
   "metadata": {},
   "outputs": [],
   "source": []
  },
  {
   "cell_type": "markdown",
   "metadata": {},
   "source": [
    "D) *Résolvez numériquement l’équation (2.3.3) à l’aide d’implémentations personnelles de la méthode par relaxation et de la méthode de Newton-Raphson pour 20 valeurs de $T$ uniformément distribuées dans l’intervalle [0, 1]. Illustrez vos résultats à l’aide d’un graphique comparant les solutions analytiques (indiquées avec des lignes de couleurs distinctes) aux solutions numériques obtenues avec différentes valeurs initiales de l’algorithme (symboles ; choisissez bien vos symboles pour que vos solutions soient bien visibles). Arrivez-vous à obtenir les trois solutions identifiées en $\\textbf{A}$ ? Pourquoi ? Considérez tracer l’équation (2.3.3) de même que la dérivée de $f(u)$ en fonction de $u$ et ce, pour quelques valeurs de $T$, pour appuyer vos conclusions. Vous pouvez aussi tracer les itérations successives de chacune des méthodes afin d’illustrer la manière dont elles convergent vers l’une ou l’autre des solutions (ex. : tracer un diagramme en toile d’araignée).*"
   ]
  },
  {
   "cell_type": "code",
   "execution_count": null,
   "metadata": {},
   "outputs": [],
   "source": []
  }
 ],
 "metadata": {
  "kernelspec": {
   "display_name": "physnum",
   "language": "python",
   "name": "python3"
  },
  "language_info": {
   "codemirror_mode": {
    "name": "ipython",
    "version": 3
   },
   "file_extension": ".py",
   "mimetype": "text/x-python",
   "name": "python",
   "nbconvert_exporter": "python",
   "pygments_lexer": "ipython3",
   "version": "3.12.2"
  }
 },
 "nbformat": 4,
 "nbformat_minor": 2
}
