{
 "cells": [
  {
   "cell_type": "markdown",
   "metadata": {
    "id": "svTnOFUxUrXC"
   },
   "source": [
    "#TP5\n",
    "\n",
    "Étienne Martel (111 239 071)\n",
    "\n",
    "Tristan Thibault (111 234 027)\n",
    "\n",
    "Pierre-Olivier Desrosiers (111 271 538)\n",
    "\n"
   ]
  },
  {
   "cell_type": "markdown",
   "metadata": {
    "id": "nj5a2wUpU3Lo"
   },
   "source": [
    "#**Modules, constantes et fonctions importantes**"
   ]
  },
  {
   "cell_type": "markdown",
   "metadata": {
    "id": "vpsqHcoicTyo"
   },
   "source": [
    "De prime d'abord, je vous ai tout de même joint les fichiers nécessaires afin que les cellules de code puissent s'éxecuter. Aussi, on a modifié les différents path pour que notre code fonctionne sur le colab. Il se pourrait que ce soit différent dépendemment sur quel logiciel vous lisez le notebook."
   ]
  },
  {
   "cell_type": "code",
   "execution_count": null,
   "metadata": {
    "id": "nV4Ao7KYVQZV"
   },
   "outputs": [],
   "source": [
    "###Import###\n",
    "import matplotlib.pyplot as plt\n",
    "import matplotlib.cm as cm\n",
    "import time\n",
    "import numpy as np\n",
    "import scipy.interpolate\n",
    "import scipy.fftpack as fft\n",
    "### VARIABLES ###\n",
    "#Pour le numéro 1 :\n",
    "nu = 0.2059 #cm^-1\n",
    "dist1 = 5 #cm\n",
    "dist2 = 20 #cm\n",
    "\n",
    "\n",
    "## largeur d'un élément de détecteur (cm)\n",
    "pixsize = 0.165\n",
    "\n",
    "## taille du détecteur (nombre d'échantillons)\n",
    "nbpix = 336\n",
    "\n",
    "### paramètres de reconstruction ###\n",
    "\n",
    "## taille de la grille d'image (carrée)\n",
    "nbvox = 96 # options: 96, 192\n",
    "\n",
    "## taille du voxel (carré) (cm)\n",
    "voxsize = 0.4 # option: 0.4, 0.2\n",
    "\n",
    "\n",
    "N=720 # Nombre de prises de données (720 angles)\n",
    "\n",
    "## fichiers d'entrée\n",
    "dataDir = \"/content/\"\n",
    "<<<<<<< local\n",
    "=======\n",
    "#### CORRECTIONS\n",
    "dataDir = \"./data/\"\n",
    "#### FIN CORRECTIONS\n",
    ">>>>>>> remote\n",
    "anglesFile = \"angles.txt\"\n",
    "sinogramFile = \"sinogram-patient.txt\""
   ]
  },
  {
   "cell_type": "code",
   "execution_count": null,
   "metadata": {
    "colab": {
     "base_uri": "https://localhost:8080/"
    },
    "id": "mrk3rth2U_P-",
    "outputId": "35ccbe61-ee80-43fa-9e11-a0dae5a22630"
   },
   "outputs": [
    {
     "name": "stdout",
     "output_type": "stream",
     "text": [
      "nbprj: 720\n",
      "angles min and max (rad):\n",
      "[0.008726646259971648, 6.283185307179586]\n"
     ]
    }
   ],
   "source": [
    "## lire la liste des angles, convertir de degrés vers rad\n",
    "## limiter à une plage [0, 2pi]\n",
    "def readAngles(filename):\n",
    "\n",
    "    angles = np.loadtxt(filename)\n",
    "    nbprj = angles.shape[0]\n",
    "\n",
    "    # convertir en radians element par element\n",
    "    angles = (np.pi/180.0)*angles\n",
    "\n",
    "    return [nbprj, angles]\n",
    "\n",
    "## lire un sinogramme\n",
    "def readSinogram(filename):\n",
    "\n",
    "    sinogram = np.loadtxt(filename)\n",
    "    nbprj = sinogram.shape[0]\n",
    "    nbpix = sinogram.shape[1]\n",
    "\n",
    "    return [nbprj, nbpix, sinogram]\n",
    "\n",
    "\n",
    "#enregistrer l'image\n",
    "def saveImage(image, prefix):\n",
    "    im = plt.imshow(image, cmap = cm.Greys_r)\n",
    "    plt.colorbar()\n",
    "    plt.title(\"method: \"+prefix)\n",
    "    plt.savefig(prefix+\"-\"+time.strftime(\"%Y%m%d-%H%M%S\")+\".png\")\n",
    "    plt.show()\n",
    "\n",
    "def readInput():\n",
    "    # lire les angles\n",
    "    [nbprj, angles] = readAngles(dataDir+anglesFile)\n",
    "\n",
    "    print(\"nbprj:\",nbprj)\n",
    "    print(\"angles min and max (rad):\")\n",
    "    print(\"[\"+str(np.min(angles))+\", \"+str(np.max(angles))+\"]\")\n",
    "\n",
    "    # lire le sinogramme\n",
    "    [nbprj2, nbpix2, sinogram] = readSinogram(dataDir+sinogramFile)\n",
    "\n",
    "    if nbprj != nbprj2:\n",
    "        print(\"angles file and sinogram file conflict, aborting!\")\n",
    "        exit(0)\n",
    "\n",
    "    if nbpix != nbpix2:\n",
    "        print(\"geo description and sinogram file conflict, aborting!\")\n",
    "        exit(0)\n",
    "\n",
    "    return [nbprj, angles, sinogram]\n",
    "[nbprj, angles, sinogram] = readInput()\n"
   ]
  },
  {
   "cell_type": "markdown",
   "metadata": {
    "id": "7JadFxvAUx87"
   },
   "source": [
    "#**Question 1**"
   ]
  },
  {
   "cell_type": "markdown",
   "metadata": {
    "id": "hcB-cslcU2VV"
   },
   "source": [
    "On trouve tout d'abord sur le site web du NIST que le coefficient d'atténuation linéaire (diffusion cohérente) est de 0.2059 $cm^2/g$. Ainsi, on veut la valeur en $cm^{-1}$, donc on doit le diviser par sa masse volumique, soit 1 $g/cm^3$, ce qui nous donne 0.2059 $cm^{-1}$ Ainsi, si on veut savoir la formule pour avoir la fraction subsistante, on a :\n",
    "\n",
    "\\begin{align}\n",
    "        ln(\\frac{I_0}{I}) = \\sum\\mu \\Delta x \n",
    "\\end{align}\n",
    "\n",
    "\\begin{align}\n",
    "        \\frac{I_0}{I} = e^ {\\mu \\Delta x }\n",
    "\\end{align}\n",
    "\n",
    "\\begin{align}\n",
    "        I = \\frac{I_0}{e^ {\\mu \\Delta x }}\n",
    "\\end{align}\n",
    "Ainsi, le programme python ci-dessous nous permettra de calculer la fraction subsistante après 5 et 20 cm.\n",
    "\n"
   ]
  },
  {
   "cell_type": "code",
   "execution_count": null,
   "metadata": {
    "colab": {
     "base_uri": "https://localhost:8080/"
    },
    "id": "BSBCXfMXW0W1",
    "outputId": "d1f9de76-97b1-4f7f-caf5-64be80a165f8"
   },
   "outputs": [
    {
     "name": "stdout",
     "output_type": "stream",
     "text": [
      "La fraction subsistante après 5 cm est de 0.35718550868274057 I_0\n",
      "La fraction subsistante après 20 cm est de 0.016277035981532836 I_0\n"
     ]
    }
   ],
   "source": [
    "def fraction_sub(distance):\n",
    "  return 1/np.exp(nu*distance)\n",
    "\n",
    "print(f\"La fraction subsistante après\", dist1, \"cm est de\", fraction_sub(dist1), \"I_0\")\n",
    "print(f\"La fraction subsistante après\", dist2, \"cm est de\", fraction_sub(dist2), \"I_0\")"
   ]
  },
  {
   "cell_type": "markdown",
   "metadata": {},
   "source": [
    "### Commentaires\n",
    "1. Je trouve un peu curieux que vous regroupez des variables pour seuelement Q1 dans vos déclarations globales au début.\n",
    "\n",
    "### Note\n",
    "10.0/10.0"
   ]
  },
  {
   "cell_type": "markdown",
   "metadata": {
    "id": "wLNh6Lx0Uz45"
   },
   "source": [
    "#**Question 2**"
   ]
  },
  {
   "cell_type": "markdown",
   "metadata": {
    "id": "jvrRppbO8_Qu"
   },
   "source": [
    "On a tout d'abord que la géométrie du problème est représenté à la figure suivante. Afin de déterminer à quelle position le faisceau passant par le milieu du voxel touchera la détecteur, il suffit de suivre les étapes suivantes.\n",
    "1) Tout d'abord, on dresse nos positions du centre de chaque voxel;\n",
    "2) On trouve nos équations pour le détecteur et le faisceau. Pour cette étape, on trouve aisément que l'équation respectant la position du détecteur est donnée par:\n",
    "\\begin{align}\n",
    "        y  =  -xtan(\\theta)\n",
    "    \\end{align}\n",
    "Ainsi, puisque le faisceau arrive toujours à incidence normal, on a que sa pente est donnée par l'inverse de la pente du détecteur multiplié par un facteur -1 et on trouve que:\n",
    "\\begin{align}\n",
    "        y  =  xcot(\\theta) + b\n",
    "    \\end{align}\n",
    "3) On trouve notre valeur de b, en remplaçant les variables de y et de x par la position du centre du voxel pour trouver notre l'équation de notre courbe;\n",
    "4) On trouve ensuite le point d'intersection entre le détecteur et le faisceau;\n",
    "5)Une simple application du théorème de pythagore est de mise afin de trouver la distance entre le point d'impact et le centre du détecteur;\n",
    "6) On trouve ensuite, dépendemment du quadrant auquel le détecteur se trouve, la distance auquel le rayon frappe le détecteur à l'aide de la fonction round(positon relative sur le détecteur * 336) afin d'utiliser la méthode du plus proche voisin;\n",
    "7) Pour le #5 où il est demandé d'utiliser l'interpolation linéaire, l'étape 6 devient : Trouver les décimales de la position et utiliser la formule suivante : \n",
    "\\begin{align}\n",
    "        Intensité = y_1 + (y_2 - y_1)\\cdot décimale\n",
    "    \\end{align}\n",
    "\n",
    "Enfin, on a manuellement mis ajouter nos valeurs d'atténuation lorsque l'angle est de $0$, $\\pi/2$, $\\pi$ et $2\\pi$, afin de ne pas causer de soucis avec les fonctions tangente et cotangente"
   ]
  },
  {
   "cell_type": "markdown",
   "metadata": {
    "id": "Qg2IIYug86jZ"
   },
   "source": [
    "![Graph_num_2.png](data:image/png;base64,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)"
   ]
  },
  {
   "cell_type": "code",
   "execution_count": null,
   "metadata": {
    "colab": {
     "base_uri": "https://localhost:8080/",
     "height": 1000
    },
    "id": "jNYwhyDcUouN",
    "outputId": "1bb70144-8caa-415e-b852-52a89dc12748"
   },
   "outputs": [],
   "source": [
    "\n",
    "def laminogram(filter_option):\n",
    "\n",
    "    [nbprj, angles, sinogram] = readInput()\n",
    "\n",
    "     # initialiser une image reconstruite\n",
    "    image = np.zeros((nbvox, nbvox))\n",
    "    if filter_option == 'on':\n",
    "      sinogram = filterSinogram(sinogram)\n",
    "    else:\n",
    "      pass\n",
    "     # \"etaler\" les projections sur l'image\n",
    "     # ceci sera fait de façon \"voxel-driven\"\n",
    "     # pour chaque voxel, trouver la contribution du signal reçu\n",
    "    for j in range(nbvox): # colonnes de l'image\n",
    "        print(\"working on image column: \"+str(j+1)+\"/\"+str(nbvox))\n",
    "        position_x_vox = j*0.4 - 19\n",
    "        for i in range(nbvox): # lignes de l'image\n",
    "            position_y_vox = 19 - i*0.4\n",
    "            for a in range(len(angles)):\n",
    "                #On va chercher notre valeur de thêta\n",
    "                theta = angles[a] #en radian\n",
    "<<<<<<< local\n",
    "                if theta == np.pi/2 or theta == 3*np.pi/2 or theta == np.pi or theta == 0 :\n",
    "=======\n",
    "                if theta == np.pi/2 or theta == 3*np.pi/2 or theta == np.pi or theta == 0:\n",
    ">>>>>>> remote\n",
    "                    if theta == np.pi / 2 :\n",
    "                        indice = round(((27.72 + position_x_vox) / 55.44) * 336)\n",
    "\n",
    "                    if theta == np.pi :\n",
    "                        indice = round(((27.72 + position_y_vox) / 55.44) * 336)\n",
    "\n",
    "                    if theta == 3*np.pi/2:\n",
    "                        indice = round(((27.72 - position_x_vox) / 55.44) * 336)\n",
    "\n",
    "                    if theta == 0 or theta == 2*np.pi:\n",
    "                        indice = round(((27.72 - position_y_vox) / 55.44) * 336)\n",
    "\n",
    "                else:\n",
    "                #Puisque ce sont des faisceaux parallèles, l'équation de chaque droite respecte y = ax + b. On trouve tout d'abord notre valeur de b.\n",
    "                    b_faisceau = position_y_vox - np.cos(theta) / np.sin(theta) * position_x_vox\n",
    "\n",
    "                    #On trouve notre points d'intersection entre le faisceau traversant le voxel et le détecteur centré en (0,0)\n",
    "                    x_commun = (-b_faisceau) / ((np.cos(theta) / np.sin(theta)) + np.tan(theta))\n",
    "                    y_commun = (-x_commun) * np.tan(theta)\n",
    "\n",
    "                #Avec le point d'intersection, on trouve la distance entre le milieu et le point d'intérêt\n",
    "                #On trouve ensuite notre position relative sur le détecteur et on utilise la fonction round() afin d'utiliser la méthode du plus proche voisin\n",
    "                    dist_milieu_detect = np.sqrt(x_commun**2 + y_commun**2)\n",
    "<<<<<<< local\n",
    "\n",
    "=======\n",
    "                    if j >= 48 :\n",
    "                        position_rel_detecteur =  1 / 2 - dist_milieu_detect / 55.44\n",
    "                    if j < 48 :\n",
    "                        position_rel_detecteur = 1 / 2 + dist_milieu_detect / 55.44\n",
    "\n",
    ">>>>>>> remote\n",
    "                    if theta > 7*np.pi/4 and theta < 2*np.pi :\n",
    "                        if j >= 48 :\n",
    "                            position_rel_detecteur =  1 / 2 - dist_milieu_detect / 55.44\n",
    "                        if j < 48 :\n",
    "                            position_rel_detecteur = 1 / 2 + dist_milieu_detect / 55.44\n",
    "\n",
    "                    if theta > 0 and theta < np.pi/4 :\n",
    "                        if j >= 48 :\n",
    "                            position_rel_detecteur =  1 / 2 - dist_milieu_detect / 55.44\n",
    "                        if j < 48 :\n",
    "                            position_rel_detecteur = 1 / 2 + dist_milieu_detect / 55.44\n",
    "\n",
    "\n",
    "\n",
    "                    if theta  > np.pi/4 and theta < 3*np.pi/4 :\n",
    "                        if i >= 48:\n",
    "                            position_rel_detecteur = 1 / 2 - dist_milieu_detect / 55.44\n",
    "\n",
    "                        if i < 48:\n",
    "                            position_rel_detecteur = 1 / 2 + dist_milieu_detect / 55.44\n",
    "\n",
    "                    if theta > 3*np.pi/4 and theta < 5*np.pi/4 :\n",
    "                        if j >= 48:\n",
    "                            position_rel_detecteur = 1 / 2 + dist_milieu_detect / 55.44\n",
    "                        if j < 48:\n",
    "                            position_rel_detecteur =  1 / 2 - dist_milieu_detect / 55.44\n",
    "\n",
    "                    if theta > 5*np.pi/4 and theta < 7*np.pi/4 :\n",
    "                        if i >= 48:\n",
    "\n",
    "                            position_rel_detecteur = 1 / 2 + dist_milieu_detect / 55.44\n",
    "                        if i < 48:\n",
    "                            position_rel_detecteur =  1 / 2 - dist_milieu_detect / 55.44\n",
    "\n",
    "                    indice = round(position_rel_detecteur * 336)\n",
    "                image[i][j] += sinogram[a][indice]\n",
    "    if filter_option == 'on':\n",
    "      plt.title('Rétroprojection filtrée')\n",
    "    else:\n",
    "      plt.title('Rétroprojection simple')\n",
    "\n",
    "    return image\n",
    "start_time = time.time()\n",
    "plt.figure(figsize=(6,6))\n",
    "plt.pcolor(laminogram('no_filter'), cmap = cm.Greys_r)\n",
    "plt.show()\n",
    "print(\"--- %s seconds ---\" % (time.time() - start_time))"
   ]
  },
  {
   "cell_type": "markdown",
   "metadata": {
    "id": "Uli3kPEvepMi"
   },
   "source": [
    "On remarque facilement qu'une rétroprojection simple n'est pas suffisant pour un diagnostic médical. L'image reconstruite est plus brillante et plus claire au point qu'on ne voit casiment plus les poumons. Cela est dû au fait, tel que mentionné dans le TP, que l'addition de 720 basses fréquences spatiale dans l'image, vient créer une image ayant un signal s'apparentant à une gaussienne. Ainsi, tel qu'il va être montrer aux numéros 3 et 4, un filtre passe-haut permettrait de \"couper\" la pointe de la gaussienne et ainsi, avoir un signal de l'image plus lisible.\n",
    "\n"
   ]
  },
  {
   "cell_type": "markdown",
   "metadata": {},
   "source": [
    "### Commentaires\n",
    "1. Vous avez soumis vos fichiers dans un dossier appeler \"data\" mais votre code demande un dossier \"content\"? Je ne devrais pas devoir modifier votre code pour le faire tourner. Votre path était aussi sous un format absolu? (-3)\n",
    "2. Je ne suis vraiment pas fan du \"flood\" de prints\n",
    "3. Au lieu de `for a in range(len(angles))` vous pouvez faire quelque chose comme `for a, angle in enumerate(angles)`, qui est un peu plus clair et propre. Vous auriez aussi pu faire ceci en notation slicing\n",
    "4. Je ne comprends vraiment pas votre série de if/else à la fin de votre fonction. Ils sont tous identiques, pourquoi avoire plusieurs ifs parents? Simplement enlevé cet enchainement résout l'artefact horizontal à travers votre image\n",
    "    * Vous avez le même problème plus haut dans vostre fonction. Beaucoup de ifs inutils qui en fin de compte font des conditions vraiment bizarre (-2)\n",
    "    \n",
    "### Note\n",
    "5.0/10.0"
   ]
  },
  {
   "cell_type": "markdown",
   "metadata": {
    "id": "reeB_jAsWzCE"
   },
   "source": [
    "#**Question 3**"
   ]
  },
  {
   "cell_type": "markdown",
   "metadata": {
    "id": "tNtSUazqiEls"
   },
   "source": [
    "Bien faire attention pour ce numéro, lorsqu'on éxecute la cellule plus d'une fois, le sinogram sera filtré plus d'une fois et donc, on perd beaucoup de signal. Les images du sinogramme filtré et celui non-filtré se trouvent en dessous de ce numéro."
   ]
  },
  {
   "cell_type": "code",
   "execution_count": null,
   "metadata": {
    "colab": {
     "base_uri": "https://localhost:8080/",
     "height": 374
    },
    "id": "Y2ot6u_5XM9z",
    "outputId": "dc9d5c89-4fca-4b6f-dd97-5882295b192f"
   },
   "outputs": [],
   "source": [
    "\n",
    "def filterSinogram(sinogram):\n",
    "    for i in range(sinogram.shape[0]):\n",
    "        sinogram[i] = filterLine(sinogram[i])\n",
    "    return sinogram\n",
    "\n",
    " ## filter une ligne (projection) via FFT\n",
    "def filterLine(projection):\n",
    "    big_P = np.fft.fft(projection, axis = 0)\n",
    "    nu = np.fft.fftfreq(big_P.shape[0])\n",
    "    big_P_f = big_P.T * np.abs(nu)\n",
    "    p_f = np.real(np.fft.ifft(big_P_f, axis = 0))\n",
    "    return p_f\n",
    "\n",
    "def saveImage(image, prefix):\n",
    "    im = plt.imshow(image, cmap = cm.Greys_r)\n",
    "    plt.imshow(sinogram, cmap = cm.Greys_r )\n",
    "    plt.colorbar()\n",
    "    plt.title(\"method: \"+prefix)\n",
    "    plt.savefig(prefix+\"-\"+time.strftime(\"%Y%m%d-%H%M%S\")+\".png\")\n",
    "\n",
    "\n",
    "plt.figure(figsize=(6,6))\n",
    "plt.pcolor(filterSinogram(sinogram), cmap = cm.Greys_r)\n",
    "plt.pcolor(sinogram, cmap = cm.Greys_r)\n",
    "plt.show()\n",
    "#saveImage(filterSinogram(sinogram), 'sinogram filtré')\n"
   ]
  },
  {
   "cell_type": "markdown",
   "metadata": {
    "id": "Nt65w9SVif-3"
   },
   "source": [
    "On constate facilement que le filtre passe-haut est efficace. En effet, le filtre passe-haut permet d'enlever toutes les basses fréquences et on voit très bien le nombre important de basses fréquences que le sinogramme avait, puisque, en se basant sur l'échelle à droite des images, on passe d'un signal de 6 à 0.2 pour les régions où le facteur \n",
    "ln(I_0/I) est le plus élevé."
   ]
  },
  {
   "cell_type": "markdown",
   "metadata": {
    "id": "q6MgWtrgiXa2"
   },
   "source": [
    "![sinogram non-filtré-20220424-174341.png](data:image/png;base64,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)"
   ]
  },
  {
   "cell_type": "markdown",
   "metadata": {
    "id": "5xd0wgMnidPf"
   },
   "source": [
    "![sinogram filtré-20220424-174326.png](data:image/png;base64,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)"
   ]
  },
  {
   "cell_type": "markdown",
   "metadata": {},
   "source": [
    "### Commentaires\n",
    "1. \"On constate facilement que le filtre passe-haut est efficace. En effet, le filtre passe-haut permet d'enlever toutes les basses fréquences\"\n",
    "    * Je ne vois pas comment vous arrivez a voire que toutes basses fréquences sont maintenant abscente juste par cette image\n",
    "2. \"on passe d'un signal de 6 à 0.2\"\n",
    "    * Comment est ce que l'échelle passe au négatif par cette logique?\n",
    "3. \"enlever toutes les basses fréquences\"\n",
    "    * Comment définissez vous \"basse fréquences\"?\n",
    "4. En général les commentaires ne lisent pas comme si vous avez vraiment compris ce que vous faites, ni même ce que font les fonctions que vous avez utilisées (-4).\n",
    "### Note\n",
    "6.0/10.0"
   ]
  },
  {
   "cell_type": "markdown",
   "metadata": {
    "id": "E7td9H72XOFk"
   },
   "source": [
    "#**Question 4**"
   ]
  },
  {
   "cell_type": "markdown",
   "metadata": {
    "id": "hwLK5vMdicjf"
   },
   "source": [
    "Pour rendre le cahier moins lourd à regarder, dans la fonction représenté au numéro 2, j'ai ajouté l'option filtre. Si l'argument de la fonction est 'on', le filtre sera ajouté, si n'importe quel autre argument est utilisé (si c'est une string bien sûr), le filtre ne sera pas ajouté. Maintenant, pour parler de la partie intéressante, on remarque vraiment bien les détails de l'image. En effet, lors du numéro 2, on pouvait seulement voir la forme des poumons. Cependant, avec l'ajout du filtre passe-haut, on peut voir aisément les bronches (points blancs dans les poumons), le sternum (rectangle blanc en haut de l'image) et on peut un peu voir la colonne vertébrale qui est le cercle pâle en bas de l'image."
   ]
  },
  {
   "cell_type": "code",
   "execution_count": null,
   "metadata": {
    "colab": {
     "base_uri": "https://localhost:8080/",
     "height": 1000
    },
    "id": "DDMxRpt5XNiT",
    "outputId": "6f17d16a-b92c-4a9d-af88-aa7a5f2b9091"
   },
   "outputs": [],
   "source": [
    "start_time = time.time()\n",
    "\n",
    "plt.figure(figsize=(6,6))\n",
    "plt.pcolor(laminogram('on'), cmap = cm.Greys_r)\n",
    "plt.show()\n",
    "\n",
    "print(\"--- %s seconds ---\" % (time.time() - start_time))"
   ]
  },
  {
   "cell_type": "markdown",
   "metadata": {},
   "source": [
    "### Commentaires\n",
    "1. Dans le devoir: \"Ou sont situées les erreurs et que diriez-vous de la fréquence spatiale des erreurs\"?\n",
    "    * Je ne vois rien qui réponde à cela (-3)\n",
    "2. Le montant d'artefact ici aurait vraiment du vous faire remettre en question votre algorithme de laminogram\n",
    "\n",
    "### Note\n",
    "7.0/10.0"
   ]
  },
  {
   "cell_type": "markdown",
   "metadata": {
    "id": "pZ0naXSFYMaE"
   },
   "source": [
    "#**Question 5**"
   ]
  },
  {
   "cell_type": "code",
   "execution_count": null,
   "metadata": {
    "colab": {
     "base_uri": "https://localhost:8080/",
     "height": 1000
    },
    "id": "cvV3zlKTYNE-",
    "outputId": "fb5e19c7-5f1b-44b2-ee62-eecc02d8a63c"
   },
   "outputs": [],
   "source": [
    "def backproject():\n",
    "\n",
    "    [nbprj, angles, sinogram] = readInput()\n",
    "\n",
    "     # initialiser une image reconstruite\n",
    "    image = np.zeros((nbvox, nbvox))\n",
    "\n",
    "#     ### option filtrer ###\n",
    "    sinogram = filterSinogram(sinogram)\n",
    "#     ######\n",
    "\n",
    "#     # \"etaler\" les projections sur l'image\n",
    "#     # ceci sera fait de façon \"voxel-driven\"\n",
    "#     # pour chaque voxel, trouver la contribution du signal reçu\n",
    "    for j in range(nbvox): # colonnes de l'image\n",
    "        print(\"working on image column: \"+str(j+1)+\"/\"+str(nbvox))\n",
    "        position_x_vox = j*0.4 - 19\n",
    "        for i in range(nbvox): # lignes de l'image\n",
    "            position_y_vox = 19 - i*0.4\n",
    "            for a in range(len(angles)):\n",
    "                #On va chercher notre valeur de thêta\n",
    "                theta = angles[a] #en radian\n",
    "                if theta == np.pi/2 or theta == 3*np.pi/2 or theta == np.pi or theta == 0 :\n",
    "                    if theta == np.pi / 2 :\n",
    "                        indice = ((27.72 + position_x_vox)) / 55.44 * 336\n",
    "\n",
    "                    if theta == np.pi :\n",
    "                        indice = ((27.72 + position_y_vox) / 55.44) * 336\n",
    "\n",
    "                    if theta == 3*np.pi/2:\n",
    "                        indice = ((27.72 - position_x_vox) / 55.44) * 336\n",
    "\n",
    "                    if theta == 0 or theta == 2*np.pi:\n",
    "                        indice = ((27.72 - position_y_vox) / 55.44) * 336\n",
    "\n",
    "                else:\n",
    "                #Puisque ce sont des faisceaux parallèles, l'équation de chaque droite respecte y = ax + b. On trouve tout d'abord notre valeur de b.\n",
    "                    b_faisceau = position_y_vox - np.cos(theta) / np.sin(theta) * position_x_vox\n",
    "\n",
    "                    #On trouve notre points d'intersection entre le faisceau traversant le voxel et le détecteur centré en (0,0)\n",
    "                    x_commun = (-b_faisceau) / ((np.cos(theta) / np.sin(theta)) + np.tan(theta))\n",
    "                    y_commun = (-x_commun) * np.tan(theta)\n",
    "\n",
    "                #Avec le point d'intersection, on trouve la distance entre le milieu et le point d'intérêt\n",
    "                #On trouve ensuite notre position relative sur le détecteur et on utilise la fonction round() afin d'utiliser la méthode du plus proche voisin\n",
    "                    dist_milieu_detect = np.sqrt(x_commun**2 + y_commun**2)\n",
    "\n",
    "                    if theta > 7*np.pi/4 and theta < 2*np.pi :\n",
    "                        if j >= 48 :\n",
    "                            position_rel_detecteur =  1 / 2 - dist_milieu_detect / 55.44\n",
    "                        if j < 48 :\n",
    "                            position_rel_detecteur = 1 / 2 + dist_milieu_detect / 55.44\n",
    "\n",
    "                    if theta > 0 and theta < np.pi/4 :\n",
    "                        if j >= 48 :\n",
    "                            position_rel_detecteur =  1 / 2 - dist_milieu_detect / 55.44\n",
    "                        if j < 48 :\n",
    "                            position_rel_detecteur = 1 / 2 + dist_milieu_detect / 55.44\n",
    "\n",
    "\n",
    "\n",
    "                    if theta  > np.pi/4 and theta < 3*np.pi/4 :\n",
    "                        if i >= 48:\n",
    "                            position_rel_detecteur = 1 / 2 - dist_milieu_detect / 55.44\n",
    "\n",
    "                        if i < 48:\n",
    "                            position_rel_detecteur = 1 / 2 + dist_milieu_detect / 55.44\n",
    "\n",
    "                    if theta > 3*np.pi/4 and theta < 5*np.pi/4 :\n",
    "                        if j >= 48:\n",
    "                            position_rel_detecteur = 1 / 2 + dist_milieu_detect / 55.44\n",
    "                        if j < 48:\n",
    "                            position_rel_detecteur =  1 / 2 - dist_milieu_detect / 55.44\n",
    "\n",
    "                    if theta > 5*np.pi/4 and theta < 7*np.pi/4 :\n",
    "                        if i >= 48:\n",
    "\n",
    "                            position_rel_detecteur = 1 / 2 + dist_milieu_detect / 55.44\n",
    "                        if i < 48:\n",
    "                            position_rel_detecteur =  1 / 2 - dist_milieu_detect / 55.44\n",
    "\n",
    "                    indice = position_rel_detecteur * 336\n",
    "                if round(indice) - indice < 0:\n",
    "                    pourcent = 1 - (indice - round(indice))\n",
    "                if round(indice) - indice >= 0:\n",
    "                    pourcent = round(indice) - indice\n",
    "\n",
    "                image[i][j] += sinogram[a][round(indice-0.5)] + (sinogram[a][round(indice+0.5)] - sinogram[a][round(indice-0.5)]) * pourcent\n",
    "    return image\n",
    "start_time = time.time()\n",
    "plt.figure(figsize=(6,6))\n",
    "plt.pcolor(backproject(), cmap = cm.Greys_r)\n",
    "plt.title('Rétroprojection filtrée (interpolation)')\n",
    "plt.show()\n",
    "print(\"--- %s seconds ---\" % (time.time() - start_time))\n",
    "    #saveImage(res, \"lam\")"
   ]
  },
  {
   "cell_type": "markdown",
   "metadata": {
    "id": "c0Mp-HVqm_I_"
   },
   "source": [
    "L'image s'est amélioré dans le sens que les détails de l'image(i.e les bronches, le sternum et la colonne) sont mieux dégradés donc, le signal de ces parties est moins intense et sont moins clairs. Bien évidemment, il est normal que les degradés soient plus flagrants lorsqu'on utilise l'interpolation linéaire, car admettons qu'on a un pixel avec 0, puis 100, puis 0 et que deux rayons arrivent entre les deux valeurs, au lieu d'avoir un point très blanc, on va avoir 2 points gris."
   ]
  },
  {
   "cell_type": "markdown",
   "metadata": {},
   "source": [
    "### Commentaires\n",
    "1. \"Mieux dégradé\"? Cela voudrait dire que l'image est meilleure parce que les détails se ressemblent?\n",
    "2. J'ai énormément de difficulté à comprendre votre argument ici. J'ai l'impression que vous indiquez que l'image est meilleure car il y à moins de valeures extrèmes? (-1)\n",
    "    * Un grand aspect de l'interpolation est que cela permet l'uniformité plus prononcée des niveaux de gris.\n",
    "\n",
    "### Note\n",
    "9.0/10.0"
   ]
  },
  {
   "cell_type": "markdown",
   "metadata": {
    "id": "6ME43MO6sIbi"
   },
   "source": []
  },
  {
   "cell_type": "markdown",
   "metadata": {
    "id": "93Ffj-uZYXWG"
   },
   "source": [
    "#**Question 6**"
   ]
  },
  {
   "cell_type": "markdown",
   "metadata": {
    "id": "fjpfPTcwANAc"
   },
   "source": [
    "Pour le présent numéro, on s'est inspiré du code suivante : https://dsp.stackexchange.com/questions/3576/whats-wrong-with-this-code-for-tomographic-reconstruction-by-the-fourier-method?fbclid=IwAR0ttKSDak3cKhdfGoa4d49pMCkYYI2i9zPt2s4O3QNCuHXFDbq_WX2DdKU\n",
    "\n",
    "Aussi, afin de ne pas saturé toutes les cellules de code, j'ai ajouté en argument de la fonction reconFourierSlice nbvox, qui détermine la taille de notre grille à reconstruire. Aussi, l'argument interpo('nearest', 'linear' ou 'cubic') a été ajouté pour la question boni"
   ]
  },
  {
   "cell_type": "code",
   "execution_count": null,
   "metadata": {
    "colab": {
     "base_uri": "https://localhost:8080/",
     "height": 459
    },
    "id": "LE1VRtTZdtHC",
    "outputId": "95ae4423-1d94-482d-ce09-6f84dfe9cc30"
   },
   "outputs": [],
   "source": [
    "def reconFourierSlice(nbvox, interpo):\n",
    "\n",
    "    [nbprj, angles, sinogram] = readInput()\n",
    "\n",
    "    # Coordonnées de la grille dans l'espace TF 2D (Équivalent de IMAGE de votre code)\n",
    "    coord_x,coord_y=np.meshgrid(np.arange(nbvox),np.arange(nbvox))\n",
    "    #Les fonctions flatten() sont utilisées ici afin de passer d'une grille 2D à 1D, afin de pouvoir\n",
    "    #utiliser la fonction scipy.interpolate.griddata de la bonne façon.\n",
    "    coord_x=coord_x.flatten()\n",
    "    coord_y=coord_y.flatten()\n",
    "    # Coordonnées du sinogramme dans l'espace TF 2D (Équivalent de SINOGRAM de votre code)\n",
    "    #array contenant les angles\n",
    "    theta = np.array(angles)\n",
    "    #Array contenant les positions sur le détecteur (position 0 au milieu)\n",
    "    t=np.arange(nbpix)-nbpix/2\n",
    "    t,theta=np.meshgrid(t, theta)\n",
    "    #\n",
    "    t=t.flatten()\n",
    "    theta=theta.flatten()\n",
    "    #Coordonnée polaires\n",
    "    circ_x= (nbpix/2)+t*np.cos(theta)\n",
    "    circ_y= (nbpix/2)+t*np.sin(theta)\n",
    "\n",
    "    # FFT 1D des lignes du sinogrammes, puis on met nos composantes les plus élevées au centre avec fftshift()\n",
    "    sinogram_fft_rows=fft.fftshift(fft.fft(fft.ifftshift(sinogram,axes=1)),axes=1)\n",
    "\n",
    "    #Théorème de la tranche de Fourier\n",
    "    #Interpolation linéaire de l'espace TF2D des composantes du sinogramme. On utilise ici l'interpolation linéaire\n",
    "    fft2=scipy.interpolate.griddata((circ_x, circ_y),sinogram_fft_rows.flatten(),(coord_x, coord_y), method=interpo,fill_value=0.0).reshape((nbvox,nbvox))\n",
    "    #On fait l'inverse de la TF 2D et on sort les valeurs réelles.\n",
    "    image=np.real(fft.fftshift(fft.ifft2(fft.ifftshift(fft2))))\n",
    "    return image\n",
    "\n",
    "\n",
    "start_time = time.time()\n",
    "\n",
    "plt.figure(figsize=(6,6))\n",
    "plt.pcolor(reconFourierSlice(96, 'linear'), cmap = cm.Greys_r)\n",
    "plt.title('Reconstruction via le théeorème de la tranche de Fourier')\n",
    "plt.show()\n",
    "\n",
    "print(\"--- %s seconds ---\" % (time.time() - start_time))"
   ]
  },
  {
   "cell_type": "markdown",
   "metadata": {},
   "source": [
    "#### Commentaires\n",
    "\n",
    "1. Vous avez bien calculé la transformée de Fourier des projections pour chaque angles $\\phi$.\n",
    "\n",
    "2. Vous avez bien stocké les transformée de Fourier dans la grille de l'image.\n",
    "\n",
    "3. Vous n'avez pas bien trouvé l'image par $TF^{-1}_{2D}$\n",
    "\n",
    "#### Note\n",
    "\n",
    "5/10"
   ]
  },
  {
   "cell_type": "markdown",
   "metadata": {
    "id": "-DUGPXkiYY7s"
   },
   "source": [
    "\n",
    "#**Question 7**\n"
   ]
  },
  {
   "cell_type": "markdown",
   "metadata": {
    "id": "O27PU2pUAyNr"
   },
   "source": [
    "Pour ce numéro, je vais également parler de la partie discussion du numéro 8. On peut facilement constater que l'image reconstruite ne pourrait pas faire l'objet d'un suivi médical. En effet, si on se fit à la définition même du théorème de Shannon-Nyquist, il faut que notre fréquence d'échantillonnage soit supérieure, au moins, au double de la différence entre la fréquence maximale et minimale, et ce, afin d'obtenir une belle image.\n"
   ]
  },
  {
   "cell_type": "markdown",
   "metadata": {},
   "source": [
    "#### Commentaires\n",
    "\n",
    "1. Vous ne discutez pas votre résultat (?). On ne voit pas même une image qui ressemble l'image source. Pourquoi?\n",
    "\n",
    "2. Vous ne montrez pas le temps de reconstructions.\n",
    "\n",
    "#### Note\n",
    "\n",
    "5/10"
   ]
  },
  {
   "cell_type": "markdown",
   "metadata": {
    "id": "pc6LlPqkYZKB"
   },
   "source": [
    "#**Question 8**"
   ]
  },
  {
   "cell_type": "markdown",
   "metadata": {
    "id": "cr0Ej9p4EdLi"
   },
   "source": [
    "Il a été très difficile pour nous de faire varier le paramètre de grosseurs des voxels tout en ayant un code fonctionnel. Cependant, j'ai créé des grilles 192x192 où on obtient seulement la forme des poumons. Bien qu'il ne pourrait pas être utilisé lors d'un diagnostic médicale, on peut tout de même voir que ce sont des poumons, mais sans plus. D'autre part, si on augmente notre grille 336x336, l'image semble parfaite, du moins, c'est l'image avec la meilleure qualité qu'on ait obtenu.\n",
    "\n"
   ]
  },
  {
   "cell_type": "code",
   "execution_count": null,
   "metadata": {
    "colab": {
     "base_uri": "https://localhost:8080/",
     "height": 459
    },
    "id": "gXJ-rREMukts",
    "outputId": "4529af43-cddd-4d9a-93e5-a86904a7539e"
   },
   "outputs": [],
   "source": [
    "start_time = time.time()\n",
    "\n",
    "plt.figure(figsize=(6,6))\n",
    "plt.pcolor(reconFourierSlice(192, 'linear'), cmap = cm.Greys_r)\n",
    "plt.title('Reconstruction via le théorème de la tranche de Fourier (grille 192x192)')\n",
    "plt.show()\n",
    "\n",
    "print(\"--- %s seconds ---\" % (time.time() - start_time))"
   ]
  },
  {
   "cell_type": "code",
   "execution_count": null,
   "metadata": {
    "colab": {
     "base_uri": "https://localhost:8080/",
     "height": 459
    },
    "id": "KtxKfMKGus4h",
    "outputId": "93ecd9de-d73d-4238-c855-08456bd40d98"
   },
   "outputs": [],
   "source": [
    "start_time = time.time()\n",
    "\n",
    "plt.figure(figsize=(6,6))\n",
    "plt.pcolor(reconFourierSlice(336, 'linear'), cmap = cm.Greys_r)\n",
    "plt.title('Reconstruction via le théorème de la tranche de Fourier(336x336)')\n",
    "plt.show()\n",
    "\n",
    "print(\"--- %s seconds ---\" % (time.time() - start_time))"
   ]
  },
  {
   "cell_type": "markdown",
   "metadata": {},
   "source": [
    "#### Commentaires\n",
    "\n",
    "1. Malgré le problème avec votre algorithme, vous avez travaillé pour l'améliorer au point d'avoir une image de bonne qualité. Merci! (+1.0)\n",
    "\n",
    "2. J'aimerais bien que vous aviez discuté les possibles problèmes avec votre algorithme pour expliquer ce que se passe. Pourquoi ça fonctionne quand vous augmentez la grille à 336x336?\n",
    "\n",
    "3. Avec votre image 336x336, vous auriez pu discuter la question du diagnostic médical, on voit de point blanc dans le poumon par exemple, mais, ce n'était pas discuté (-3.0)\n",
    "\n",
    "4. Dire que l'image semble parfaite n'est pas de bonnes observations, les images sont décrites par résolution, bruit, contraste, etc.\n",
    "\n",
    "5. Il manque une discussion en se servant du théorème de Nyquist-Shannon (-2.0).\n",
    "\n",
    "#### Note\n",
    "\n",
    "6/10"
   ]
  },
  {
   "cell_type": "markdown",
   "metadata": {
    "id": "hLkd4YeAYZXQ"
   },
   "source": [
    "#**Question 9**"
   ]
  },
  {
   "cell_type": "markdown",
   "metadata": {
    "id": "edJwE6jsHzQA"
   },
   "source": [
    "On a les temps d'éxecution suivants:\n",
    "  \n",
    "1.  Rétroprojection simple : 127 secondes;\n",
    "2.  Rétroprojection filtrée : 126 secondes;\n",
    "3.  Rétroprojection filtrée par interpolation : 194 secondes;\n",
    "4.  Fourier(96x96) : 5 secondes;\n",
    "5.  Fourier(192x192) : 5.5 secondes;\n",
    "6.  Fourier(336x336) : 6.67 secondes.\n",
    "\n",
    "À la lumière de cela, bien qu'il ne l'est pas demandé, lors d'un TACO, il y a deux paramètres à prendre en compte, soit le temps nécessaire avant de recevoir l'image et la qualité de celle-ci. Dans un monde parfait, la qualité d'image serait parfaite avec un temps d'éxecution casiment nul. Cependant, ce n'est pas le cas et on doit faire un compromis entre ces deux paramètres. Cela dit, si je me fis aux résultats dont on a obtenu, clairement, que le théorème de la tranche de Fourier est un pari gagnant. En effet, il reconstruit une image de très haute qualité et avec un temps d'éxecution plus que raisonnable. Maintenant, l'éxecution de la rétroprojection filtré et non filtré semble longue, mais il est également important de considérer les trois boucles for. En effet, ces trois boucles représentent, en tout, 6 635 520 (96x96x720) itérations et dans chacune de ces itérations il y a beaucoup de if condition, ce qui rend le code relativement lourd à éxecuter, et ce, malgré une approche par slicing. Ensuite, la rétroprojection filtrée(interpolation) augmente considérablement le temps d'éxecution, soit de 68 secondes, car au lieu d'utliser seulement une valeur (plus proche voisin), on en utilise deux et donc, le temps d'éxecution augmente considérablement. Enfin, la reconstruction TF_2D est celle qui répond le mieux aux attentes. En effet, en augmentant la taille de la grille de l'image d'un facteur 2, puis 3.5, on augmente beaucoup la résolution, pour seulement 1.67 secondes de différence. Ce petit temps d'éxecutions est dû au fait que lorsqu'on appelle des fonctions ayant rapport à la transformée 2D, celles-ci ne contiennent pas trois boucles for et ainsi, le temps d'éxecution est moindre.\n",
    "\n",
    "\n",
    "\n"
   ]
  },
  {
   "cell_type": "markdown",
   "metadata": {},
   "source": [
    "#### Commentaires\n",
    "\n",
    "1. Qualité d'image parfait avec temps d'exécution nul? Je ne vois pas la relation entre temps d'exécution et la qualité de l'image. La qualité de l'image dépend des limitations liées au CT Scanner, comme la taille du détecteur et la taille do focal spot. On peut améliorer la qualité de l'image en se servant de code de reconstruction itérative par exemple.\n",
    "\n",
    "2. Vous avez bien discuté votre résultat.\n",
    "\n",
    "#### Note\n",
    "\n",
    "10/10"
   ]
  },
  {
   "cell_type": "markdown",
   "metadata": {
    "id": "kqfOZGT7Yeig"
   },
   "source": [
    "#**Question 10**"
   ]
  },
  {
   "cell_type": "code",
   "execution_count": null,
   "metadata": {
    "colab": {
     "base_uri": "https://localhost:8080/",
     "height": 459
    },
    "id": "SP9fydlzPQI7",
    "outputId": "bccb80c3-0ad2-4f8a-a4d5-9f67d0ea70c7"
   },
   "outputs": [],
   "source": [
    "start_time = time.time()\n",
    "#L'interpolation cubique (bi-linéaire) est utilisée ici.\n",
    "plt.figure(figsize=(6,6))\n",
    "plt.pcolor(reconFourierSlice(336, 'cubic'), cmap = cm.Greys_r)\n",
    "plt.title('Reconstruction via le théorème de la tranche de Fourier(336x336)')\n",
    "plt.show()\n",
    "\n",
    "print(\"--- %s seconds ---\" % (time.time() - start_time))"
   ]
  },
  {
   "cell_type": "markdown",
   "metadata": {
    "id": "MJktuBFiPlTT"
   },
   "source": [
    "À la lumière de l'image obtenue, on remarque aisément que l'image est parfaite. Bien que l'image reconstruite par interpolation linéaire était très respectable, cette dernière avait un \"background\" non-uniforme, tandis que cette image-ci, il est totalement noir et uniforme. De plus, les parties des poumons semblent un tantinet plus visible (on dirait que la résolution est meilleure, malgré la même taille de grille). Enfin, tout cela prend 7.72 secondes à éxecuter et donc, l'image prend une seconde plus à se reconstruire que l'image par interpolation linéaire, ce qui est très bien."
   ]
  },
  {
   "cell_type": "markdown",
   "id": "f9602345",
   "metadata": {},
   "source": [
    "<span style=\"color:red\">**<<<<<<< local**</span>"
   ]
  },
  {
   "cell_type": "markdown",
   "metadata": {},
   "source": [
    "#### Commentaires\n",
    "\n",
    "1. Interpolation « cubic » (cubic spline interpolation) n'est pas la même chose que l'interpolation bi-linéraire (-3.0)\n",
    "\n",
    "2. Image parfaite? \n",
    "\n",
    "3. Vous avez bien évalué le temps de reconstruction.\n",
    "\n",
    "#### Note\n",
    "\n",
    "4/10"
   ]
  },
  {
   "cell_type": "markdown",
   "id": "e2b0d078",
   "metadata": {},
   "source": [
    "<span style=\"color:red\">**=======**</span>"
   ]
  },
  {
   "cell_type": "markdown",
   "metadata": {},
   "source": [
    "## Qualité de code\n",
    "* Pourrait séparer le code en plusieurs cellules\n",
    "* Si vous utilisez des chiffres magiques, il faudraient vraiment que vous les justifiez ou trouviez une autre solution\n",
    "* Beaucoup de chiffres magiques\n",
    "* Certaines sections manquent de commentaires\n",
    "\n",
    "# Total\n",
    " \n",
    "* Questions (90%): 67/90\n",
    "* Qualité code (10%): 7/10\n",
    " \n",
    "---------------------------\n",
    "* Total: 74%"
   ]
  },
  {
   "cell_type": "markdown",
   "id": "21ae57b2",
   "metadata": {},
   "source": [
    "<span style=\"color:red\">**>>>>>>> remote**</span>"
   ]
  },
  {
   "cell_type": "code",
   "execution_count": null,
   "metadata": {},
   "outputs": [],
   "source": []
  }
 ],
 "metadata": {
  "colab": {
   "collapsed_sections": [],
   "name": "TP5.ipynb",
   "provenance": []
  },
  "kernelspec": {
   "display_name": "Python 3 (ipykernel)",
   "language": "python",
   "name": "python3"
  },
  "nbdime-conflicts": {
   "local_diff": [
    {
     "key": "language_info",
     "op": "add",
     "value": {
      "codemirror_mode": {
       "name": "ipython",
       "version": 3
      },
      "file_extension": ".py",
      "mimetype": "text/x-python",
      "name": "python",
      "nbconvert_exporter": "python",
      "pygments_lexer": "ipython3",
      "version": "3.8.8"
     }
    }
   ],
   "remote_diff": [
    {
     "key": "language_info",
     "op": "add",
     "value": {
      "codemirror_mode": {
       "name": "ipython",
       "version": 3
      },
      "file_extension": ".py",
      "mimetype": "text/x-python",
      "name": "python",
      "nbconvert_exporter": "python",
      "pygments_lexer": "ipython3",
      "version": "3.8.10"
     }
    }
   ]
  }
 },
 "nbformat": 4,
 "nbformat_minor": 4
}
