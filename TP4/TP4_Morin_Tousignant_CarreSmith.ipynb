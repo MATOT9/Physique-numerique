{
 "cells": [
  {
   "cell_type": "markdown",
   "metadata": {},
   "source": [
    "<h1><center>Physique numérique (PHY-3500) - TP3</center></h1>\n",
    "<hr>\n",
    "<br><br>\n",
    "\n",
    "**Membres de l'équipe**\n",
    "| Nom | NI |\n",
    "| --- | :---: |\n",
    "| Maxime Tousignant-Tremblay | 536 772 369 |\n",
    "| Philippe Morin | 536 776 382 |\n",
    "| Emilie Carré Smith| 111 235 839 |\n"
   ]
  },
  {
   "cell_type": "code",
   "execution_count": 2,
   "metadata": {},
   "outputs": [],
   "source": [
    "from typing import Callable\n",
    "\n",
    "import numpy as np\n",
    "from numba import njit\n",
    "from numpy.typing import NDArray\n",
    "from matplotlib import pyplot as plt\n",
    "from astropy import constants as cte\n",
    "\n",
    "\n",
    "%matplotlib inline\n",
    "%config InlineBackend.figure_formats = \"svg\",\n",
    "plt.style.use(\"LabReport.mplstyle\")"
   ]
  },
  {
   "cell_type": "markdown",
   "metadata": {},
   "source": [
    "# Atténuation des rayons X\n",
    "\n",
    "1) Supposons, pour simplifier, que le corps humain est fait d’eau pure. Grâce à la base de\n",
    "données XCOM du NIST 1, trouvez le µ de l’eau pour des photons de 60 keV, à une\n",
    "masse volumique de 1.0 g/cm3. Quelle fraction du signal subsiste après avoir traversé 5 cm d’eau ; 20 cm d’eau ?\n"
   ]
  },
  {
   "cell_type": "code",
   "execution_count": null,
   "metadata": {},
   "outputs": [],
   "source": []
  },
  {
   "cell_type": "markdown",
   "metadata": {},
   "source": [
    "# Reconstruction par rétroprojection\n",
    "\n",
    "2) En utilisant le code fourni (ou pas), créer une rétroprojection simple, aussi appelée\n",
    "laminogramme, des données de projection fournies. Notez qu’une approche par slicing\n",
    "pourrait accélérer votre algorithme. Votre code utilisera la méthode du plus proche voisin\n",
    "pour déterminer la valeur de projection à utiliser (le rayon passant par la source et le\n",
    "voxel d’intérêt n’aboutit pas nécessairement au centre des pixels du détecteur).\n",
    "Une fois que vous aurez accès au fantôme numérique, comparez-le à la reconstruction.\n",
    "Qualitativement, quelles différences observez-vous entre l’image reconstruite et l’image\n",
    "de référence (fantôme) ?\n"
   ]
  },
  {
   "cell_type": "code",
   "execution_count": null,
   "metadata": {},
   "outputs": [],
   "source": []
  },
  {
   "cell_type": "markdown",
   "metadata": {},
   "source": [
    "# Rétroprojection filtrée\n",
    "\n",
    "3) En utilisant la librairie numpy.fft, implémentez le filtre passe-haut proposé pour filtrer le sinogramme une projection à la fois 2. Affichez et sauvegardez l’image du sinogramme filtré. Qualitativement, quelles sont les principales différences entre le sinogramme fourni et filtré ?\n"
   ]
  },
  {
   "cell_type": "code",
   "execution_count": null,
   "metadata": {},
   "outputs": [],
   "source": []
  },
  {
   "cell_type": "markdown",
   "metadata": {},
   "source": [
    "4) Ayant en main le sinogramme filtré, effectuez une rétroprojection filtrée, en récupérant\n",
    "idéalement le code précédent du laminogramme. Comparez l’image obtenue avec le fantôme. Quelles différences observez-vous ? O`u sont situées les erreurs et que diriezvous de la fréquence spatiale des erreurs ?\n"
   ]
  },
  {
   "cell_type": "code",
   "execution_count": null,
   "metadata": {},
   "outputs": [],
   "source": []
  },
  {
   "cell_type": "markdown",
   "metadata": {},
   "source": [
    "# Reconstruction via le théorème de la tranche de Fourier\n",
    "\n",
    "5) Ecrivez une nouvelle fonction de reconstruction reconFourierSlice() qui effectue la reconstruction via le théorème de la tranche de Fourier. Il faut effecteur la TF 1D de chaque projection du sinogramme et stocker le nouveau sinogramme transformé. Par échantillonnage du sinogramme, remplissez l’espace de Fourier 2D de l’image à reconstruire. Vous pouvez choisir l’angle approprié par la méthode du plus proche voisin et la position sur le d´etecteur par interpolation linéaire. Trouvez l’image par TF−1 2D et commentez les résultats. Indice : considérez toutes les données comme des nombres\n",
    "complexes avec l’initialisation suivante mymatrix = numpy.zeros((a,b), ’complex’), puis prenez la partie réelle de l’image finale."
   ]
  },
  {
   "cell_type": "code",
   "execution_count": null,
   "metadata": {},
   "outputs": [],
   "source": []
  }
 ],
 "metadata": {
  "kernelspec": {
   "display_name": "physnum",
   "language": "python",
   "name": "python3"
  },
  "language_info": {
   "codemirror_mode": {
    "name": "ipython",
    "version": 3
   },
   "file_extension": ".py",
   "mimetype": "text/x-python",
   "name": "python",
   "nbconvert_exporter": "python",
   "pygments_lexer": "ipython3",
   "version": "3.11.8"
  }
 },
 "nbformat": 4,
 "nbformat_minor": 2
}
